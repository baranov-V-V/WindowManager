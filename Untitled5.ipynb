{
 "cells": [
  {
   "cell_type": "markdown",
   "metadata": {},
   "source": [
    "Полукольцо:\n",
    "\n",
    "$$ (1) \\emptyset \\in S$$\n",
    "$$ (2) A,B \\in S \\rightarrow A \\cap B \\in S$$\n",
    "$$ (3) A, A1 \\in S, A1 \\subset A \\rightarrow \\exists B_1,B_2,\\dots,B_t: A = \\sqcup_{i} B_i \\sqcup A_1$$"
   ]
  },
  {
   "cell_type": "markdown",
   "metadata": {},
   "source": [
    "Кольцо:\n",
    "\n",
    "$$ (1) A,B \\in S \\rightarrow A \\cap B \\in S$$\n",
    "$$ (2) A,B \\in S \\rightarrow A \\Delta B \\in S$$"
   ]
  },
  {
   "cell_type": "markdown",
   "metadata": {},
   "source": [
    "Кольцо с единицей = алгебра"
   ]
  },
  {
   "cell_type": "markdown",
   "metadata": {},
   "source": [
    "Сигма - кольцо (сигма - алгебра), если объединять и пересекать можно любой счетный набор множеств из $S$."
   ]
  },
  {
   "cell_type": "markdown",
   "metadata": {},
   "source": [
    "$$x \\in \\overline{\\lim A_n} \\Leftrightarrow \\forall n \\exists k > n \\;\\;x \\in A_k$$"
   ]
  },
  {
   "cell_type": "markdown",
   "metadata": {},
   "source": [
    "$$\\exists n \\forall k >n \\;\\;x \\in A_k$$"
   ]
  },
  {
   "cell_type": "markdown",
   "metadata": {},
   "source": [
    "Пусть $S$ - полукольцо, мерой на $S$ называется функция $m: S \\rightarrow [0,+\\infty)$, такая что выполняется конечная аддитивность:\n",
    "\n",
    "$$\\forall A_1,A_2,A_3,\\dots,A_n, A=\\sqcup A_i \\text{ верно: } m(A) = m(A_1)+...+m(A_n)$$"
   ]
  },
  {
   "cell_type": "markdown",
   "metadata": {},
   "source": [
    "Сигма -аддитивная мера/"
   ]
  },
  {
   "cell_type": "markdown",
   "metadata": {},
   "source": [
    "$$A_1 = (A_1 \\setminus A_2) \\sqcup (A_2 \\setminus A_3) \\sqcup (A_3 \\setminus A_4)... \\sqcup A$$"
   ]
  },
  {
   "cell_type": "markdown",
   "metadata": {},
   "source": [
    "$$T_i = m(A_i \\setminus A_{i+1})+m(...)+...$$"
   ]
  }
 ],
 "metadata": {
  "kernelspec": {
   "display_name": "Python 3",
   "language": "python",
   "name": "python3"
  },
  "language_info": {
   "codemirror_mode": {
    "name": "ipython",
    "version": 3
   },
   "file_extension": ".py",
   "mimetype": "text/x-python",
   "name": "python",
   "nbconvert_exporter": "python",
   "pygments_lexer": "ipython3",
   "version": "3.6.5"
  }
 },
 "nbformat": 4,
 "nbformat_minor": 2
}
